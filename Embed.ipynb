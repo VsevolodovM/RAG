{
  "nbformat": 4,
  "nbformat_minor": 0,
  "metadata": {
    "colab": {
      "provenance": [],
      "gpuType": "T4"
    },
    "kernelspec": {
      "name": "python3",
      "display_name": "Python 3"
    },
    "language_info": {
      "name": "python"
    },
    "accelerator": "GPU"
  },
  "cells": [
    {
      "cell_type": "code",
      "execution_count": null,
      "metadata": {
        "collapsed": true,
        "id": "npiPSPUJFE4Q"
      },
      "outputs": [],
      "source": [
        "!pip install --upgrade transformers\n",
        "!pip install pinecone\n",
        "!pip install openai==0.28\n",
        "!pip install -U sentence-transformers"
      ]
    },
    {
      "cell_type": "code",
      "source": [
        "from transformers import AutoTokenizer, AutoModelForMaskedLM, AutoConfig, pipeline\n",
        "from sentence_transformers import SentenceTransformer, SimilarityFunction\n",
        "import torch\n",
        "import json\n",
        "import os\n",
        "import openai"
      ],
      "metadata": {
        "id": "m88svungHQz0"
      },
      "execution_count": 3,
      "outputs": []
    },
    {
      "cell_type": "code",
      "source": [
        "from google.colab import userdata\n",
        "\n",
        "\n",
        "hf_token = userdata.get('HF_TOKEN')\n",
        "\n",
        "if hf_token is None:\n",
        "    raise ValueError(\"Hugging Face token not found.\")\n",
        "\n",
        "from huggingface_hub import login\n",
        "\n",
        "\n",
        "login(token=hf_token)"
      ],
      "metadata": {
        "id": "ZldQ5IvRSZej"
      },
      "execution_count": 4,
      "outputs": []
    },
    {
      "cell_type": "markdown",
      "source": [
        "Install embeding model:"
      ],
      "metadata": {
        "id": "60ZyobYtS061"
      }
    },
    {
      "cell_type": "code",
      "source": [
        "model = SentenceTransformer(\"nomic-ai/modernbert-embed-base\", similarity_fn_name=SimilarityFunction.COSINE)"
      ],
      "metadata": {
        "id": "E-zU-dGlT6ye",
        "collapsed": true
      },
      "execution_count": null,
      "outputs": []
    },
    {
      "cell_type": "code",
      "source": [
        "from nltk.tokenize import word_tokenize #text tokenizer\n",
        "import nltk\n",
        "nltk.download('punkt')\n",
        "nltk.download('punkt_tab')"
      ],
      "metadata": {
        "collapsed": true,
        "id": "nAUwqs0Vi93N"
      },
      "execution_count": null,
      "outputs": []
    },
    {
      "cell_type": "markdown",
      "source": [
        "Load data from json file:"
      ],
      "metadata": {
        "id": "szfWZXu2TGD3"
      }
    },
    {
      "cell_type": "code",
      "source": [
        "file_name = \"merged_data.json\"\n",
        "\n",
        "\n",
        "with open(file_name, \"r\") as json_file:\n",
        "    data = json.load(json_file)\n",
        "\n",
        "print(data[0])"
      ],
      "metadata": {
        "id": "zJirllQmXm1C",
        "colab": {
          "base_uri": "https://localhost:8080/"
        },
        "outputId": "c50730ea-b2c3-47cf-ecee-885f6dfcbd1f"
      },
      "execution_count": 8,
      "outputs": [
        {
          "output_type": "stream",
          "name": "stdout",
          "text": [
            "{'GUID': 1, 'ActName': 'Act Governing Domestic Help And Domestic Employees', 'Section': 'Scope of application', 'Paragraph': '§ 1', 'Text': '. (1) The provisions of this Federal Act shall apply to the employment relationship of employees who provide domestic services for their employer or members of such employer’s household, regardless of whether or not they are residing in the employer’s household. (2) Employees within the meaning of Para 1 above shall include persons who provide services of a more qualified type (domestic employees). (3) In applying this Act, no difference shall be made whether the household is managed by a natural person or legal person for its members or for a third party. However, the Act shall not apply to an employment relationship of employees of legal persons when such relationship is governed by a collective bargaining agreement. (4) The provisions of this Federal Act shall not apply to: a) employment relationships of employees who, in addition to the services referred to in Para (1) above, regularly, albeit to a minor extent, render services for an activity of the employer that serves a commercial, agricultural, forestry or other gainful purpose and where their employment relationship from this service is already regulated by a special act under the labour law; b) employment relationships of the type regulated in Paras (1) through (3) above when the employee has an employment relationship with: 1. a federal, state or local authority, a municipality or operation, foundation, fund or institution provided that such facilities are managed by bodies of any of the aforementioned territorial authorities or by individuals appointed for such purpose by such authorities, 2. any other corporation under public law or operation, foundation, fund or institution provided that such facilities are managed by bodies of any of these corporations or by individuals appointed for such purpose by such corporations; c) employment-relationships of the type regulated in Paras (1) and (2) above if the employee is employed in a therapeutic or care institution, regardless of whether such institution is managed by a territorial authority or other corporation under public law.', 'WordCount': 326, 'References': []}\n"
          ]
        }
      ]
    },
    {
      "cell_type": "code",
      "source": [
        "device = 0 if torch.cuda.is_available() else -1\n",
        "summarizer = pipeline(\"summarization\", model=\"facebook/bart-large\", device = device)\n",
        "\n",
        "openai.api_key = userdata.get('OPEN_AI').strip()\n"
      ],
      "metadata": {
        "id": "oo4779_JntD8"
      },
      "execution_count": null,
      "outputs": []
    },
    {
      "cell_type": "markdown",
      "source": [
        "Chunks with a length of less than 768 tokens (the maximum supported by Pinecone) are not vectorized. Larger chunks are summarized before vectorization using different models based on their size:\n",
        "\n",
        "\n",
        "*   Chunks up to 1024 tokens are summarized using facebook/bart-large.\n",
        "*   Chunks exceeding 1024 tokens are summarized using gpt-3.5.\n",
        "    \n",
        "\n",
        "This preprocessing ensures that the data is appropriately condensed while preserving its semantic relevance, enabling efficient and accurate vectorization for retrieval."
      ],
      "metadata": {
        "id": "eLvh1FjoTRmd"
      }
    },
    {
      "cell_type": "code",
      "source": [
        "for par in data:\n",
        "  print(par['GUID'])\n",
        "  if len(word_tokenize(par['Text'])) <= 768:\n",
        "    #normal text\n",
        "    par[\"Summary\"] = par[\"Text\"]\n",
        "  else:\n",
        "    if len(word_tokenize(par['Text'])) >= 1024:\n",
        "      # gpt\n",
        "      response = openai.ChatCompletion.create(\n",
        "      model=\"gpt-3.5-turbo\",\n",
        "      messages=[\n",
        "          {\"role\": \"system\", \"content\": \"You are a helpful assistant that summarizes text.\"},\n",
        "          {\"role\": \"user\", \"content\": f\"Summarize the following text:\\n{par['Text']}\"}\n",
        "      ],\n",
        "      max_tokens=768,\n",
        "      temperature=0.5)\n",
        "      par[\"Summary\"] = response['choices'][0]['message']['content']\n",
        "    else:\n",
        "      # bert\n",
        "      par[\"Summary\"] = summarizer(par[\"Text\"], max_length=768, do_sample=False,truncation=True)[0][\"summary_text\"]\n",
        ""
      ],
      "metadata": {
        "collapsed": true,
        "id": "AgQrKXMBkosi"
      },
      "execution_count": null,
      "outputs": []
    },
    {
      "cell_type": "code",
      "source": [
        "data[5]"
      ],
      "metadata": {
        "colab": {
          "base_uri": "https://localhost:8080/"
        },
        "id": "ui3LKsJE1wrJ",
        "outputId": "bb742846-153a-4120-d9f0-ca9f19ce4d61"
      },
      "execution_count": 56,
      "outputs": [
        {
          "output_type": "execute_result",
          "data": {
            "text/plain": [
              "{'GUID': 6,\n",
              " 'ActName': 'Act Governing Domestic Help And Domestic Employees',\n",
              " 'Section': 'General terms',\n",
              " 'Paragraph': '§ 6',\n",
              " 'Text': '. (1) Employees are entitled to a leisure period each week which shall commence not later than 2 pm on a working day to be agreed and end upon the time the employee is on duty again on the next following day. On such day, the breaks as defined in Paras (3) and (4) of Section 5 shall be omitted. In addition, employees shall be entitled to an off-duty Sunday once every two weeks. Such leisure period shall commence upon the time the employee goes off duty on Saturday and shall end at the time the employee is on duty again on Monday. (2) On those Sundays which are not off-duty for the employee and on legal holidays, the on-duty period must not exceed 6 hours. On such days, the breaks as defined in Paras (3) and (4) of Section 5 shall be omitted. If the employee is requested to work on a Sunday that would otherwise be off-duty, the next following Sunday shall be fully exempt from work, regardless of the duration of work performed on the previous Sunday. (3) If an employee does not consume in-kind benefits during a leisure period as defined in Paras (1) and (2) above, such benefits shall be compensated in cash pursuant to the provisions of Para (2) of Section 3, provided that the employer has informed his/her employee of such non-consumption in good time. (4) The employee shall be granted the time required by him/her to perform his/her religious duties. Such time shall be mutually agreed by the employer and employee and it shall not be counted against the leisure periods provided in Paras (1) and (2) above nor against the breaks and periods of rest due under Paras (3) and (4) of Section 5. (5) For any work rendered on legal holidays, a compensation shall be paid that shall be calculated in accordance with the Ordinance Governing Wage Payments on Legal Holidays, State Law Gazette no. 212/1945. Protection of young and under-age employees',\n",
              " 'WordCount': 332,\n",
              " 'References': [],\n",
              " 'Summary': '. (1) Employees are entitled to a leisure period each week which shall commence not later than 2 pm on a working day to be agreed and end upon the time the employee is on duty again on the next following day. On such day, the breaks as defined in Paras (3) and (4) of Section 5 shall be omitted. In addition, employees shall be entitled to an off-duty Sunday once every two weeks. Such leisure period shall commence upon the time the employee goes off duty on Saturday and shall end at the time the employee is on duty again on Monday. (2) On those Sundays which are not off-duty for the employee and on legal holidays, the on-duty period must not exceed 6 hours. On such days, the breaks as defined in Paras (3) and (4) of Section 5 shall be omitted. If the employee is requested to work on a Sunday that would otherwise be off-duty, the next following Sunday shall be fully exempt from work, regardless of the duration of work performed on the previous Sunday. (3) If an employee does not consume in-kind benefits during a leisure period as defined in Paras (1) and (2) above, such benefits shall be compensated in cash pursuant to the provisions of Para (2) of Section 3, provided that the employer has informed his/her employee of such non-consumption in good time. (4) The employee shall be granted the time required by him/her to perform his/her religious duties. Such time shall be mutually agreed by the employer and employee and it shall not be counted against the leisure periods provided in Paras (1) and (2) above nor against the breaks and periods of rest due under Paras (3) and (4) of Section 5. (5) For any work rendered on legal holidays, a compensation shall be paid that shall be calculated in accordance with the Ordinance Governing Wage Payments on Legal Holidays, State Law Gazette no. 212/1945. Protection of young and under-age employees'}"
            ]
          },
          "metadata": {},
          "execution_count": 56
        }
      ]
    },
    {
      "cell_type": "code",
      "source": [
        "with open(\"merged_data_with_summary.json\", \"w\") as json_file:\n",
        "    json.dump(data, json_file, indent=4, ensure_ascii=False)"
      ],
      "metadata": {
        "id": "q8tl6SM2B-Hm"
      },
      "execution_count": 15,
      "outputs": []
    },
    {
      "cell_type": "code",
      "source": [
        "embeds = []\n",
        "for i in range(len(data)):\n",
        "\n",
        "  embeds.append(model.encode(data[i][\"ActName\"] + \" \" + data[i][\"Section\"] + data[i][\"Paragraph\"] + \" \" + data[i][\"Summary\"]))\n",
        "\n",
        "\n"
      ],
      "metadata": {
        "collapsed": true,
        "id": "hgm0kIOaY0AS"
      },
      "execution_count": null,
      "outputs": []
    },
    {
      "cell_type": "code",
      "source": [
        "from pinecone import Pinecone, ServerlessSpec\n",
        "\n",
        "pc = Pinecone(api_key=userdata.get('PINE'))"
      ],
      "metadata": {
        "id": "ULUmeMzqcs1E"
      },
      "execution_count": 17,
      "outputs": []
    },
    {
      "cell_type": "markdown",
      "source": [
        "Create pinecone Index:"
      ],
      "metadata": {
        "id": "fIO3AJ95Uq1U"
      }
    },
    {
      "cell_type": "code",
      "source": [
        "index_name = \"rag-data-paragraphs\"\n",
        "\n",
        "\n",
        "pc.create_index(\n",
        "\n",
        "    name=index_name,\n",
        "\n",
        "    dimension=768,\n",
        "\n",
        "    metric=\"cosine\",\n",
        "\n",
        "    spec=ServerlessSpec(\n",
        "\n",
        "        cloud=\"aws\",\n",
        "\n",
        "        region=\"us-east-1\"\n",
        "\n",
        "    )\n",
        "\n",
        ")"
      ],
      "metadata": {
        "id": "iIMNwKyQdrtu"
      },
      "execution_count": 22,
      "outputs": []
    },
    {
      "cell_type": "code",
      "source": [
        "index = pc.Index(index_name)"
      ],
      "metadata": {
        "id": "8B7sFy-oeWmZ"
      },
      "execution_count": 23,
      "outputs": []
    },
    {
      "cell_type": "markdown",
      "source": [
        "Add data to the pincone Index"
      ],
      "metadata": {
        "id": "l9KqiARCUxlv"
      }
    },
    {
      "cell_type": "code",
      "source": [
        "pinecone_data = []\n",
        "for i in range(len(embeds)):\n",
        "  if i % 100 == 0 and i != 0:\n",
        "    index.upsert(vectors=pinecone_data)\n",
        "    pinecone_data.clear()\n",
        "  refs_str = \" \".join([str(ref) for ref in data[i][\"References\"]])\n",
        "  pinecone_data.append({\n",
        "      \"id\" : str(i),\n",
        "      \"values\" : embeds[i].tolist(),\n",
        "      \"metadata\" : {\n",
        "          \"GUID\" : data[i][\"GUID\"],\n",
        "          \"Section\" : data[i][\"Section\"],\n",
        "          \"Paragraph\" : data[i][\"Paragraph\"],\n",
        "          \"References\" : refs_str,\n",
        "          \"Summary\" : data[i][\"Summary\"],\n",
        "          \"ActName\" : data[i][\"ActName\"],\n",
        "          \"Text\": \"Text:\" + data[i][\"Text\"],\n",
        "      }\n",
        "  })\n",
        "  index.upsert(vectors=pinecone_data)\n",
        "\n"
      ],
      "metadata": {
        "id": "GOROyDdTfblr"
      },
      "execution_count": 29,
      "outputs": []
    }
  ]
}